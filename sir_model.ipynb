{
 "cells": [
  {
   "cell_type": "code",
   "execution_count": 1,
   "metadata": {},
   "outputs": [],
   "source": [
    "from __future__ import print_function\n",
    "import numpy as np\n",
    "from scipy.integrate import odeint\n",
    "import matplotlib.pyplot as plt\n",
    "from sympy.solvers import solve\n",
    "from sympy import Symbol\n",
    "from ipywidgets import interact, interactive, fixed, interact_manual\n",
    "import ipywidgets as widgets"
   ]
  },
  {
   "cell_type": "code",
   "execution_count": 2,
   "metadata": {},
   "outputs": [],
   "source": [
    "# Total population, N.\n",
    "total_pop = 1000\n",
    "# Initial number of infected and recovered individuals, I0 and R0.\n",
    "I0 = 1\n",
    "# A grid of time points (in days)\n",
    "t = np.linspace(0, 160, num=160)"
   ]
  },
  {
   "cell_type": "code",
   "execution_count": 3,
   "metadata": {},
   "outputs": [],
   "source": [
    "def dec_to_percentage_string(dec):\n",
    "    rounded_str = str(round(dec * 100)) + '%'\n",
    "    return rounded_str"
   ]
  },
  {
   "cell_type": "code",
   "execution_count": 4,
   "metadata": {},
   "outputs": [],
   "source": [
    "def convert_mrr_to_days(mrr):\n",
    "    x = Symbol('x')\n",
    "    sol = solve(mrr * x - 1, x)\n",
    "    sol_string = str(round(sol[0], 3))\n",
    "    return sol_string"
   ]
  },
  {
   "cell_type": "code",
   "execution_count": 5,
   "metadata": {},
   "outputs": [],
   "source": [
    "# The SIR model differential equations.\n",
    "def deriv(y, t, N, beta, gamma):\n",
    "    S, I, R = y\n",
    "    dSdt = -beta * S * I / N\n",
    "    dIdt = beta * S * I / N - gamma * I\n",
    "    dRdt = gamma * I\n",
    "    return dSdt, dIdt, dRdt"
   ]
  },
  {
   "cell_type": "code",
   "execution_count": 6,
   "metadata": {},
   "outputs": [],
   "source": [
    "def percentage_of(percentage, total):\n",
    "    return round((percentage / 100) * total)"
   ]
  },
  {
   "cell_type": "code",
   "execution_count": 20,
   "metadata": {},
   "outputs": [
    {
     "data": {
      "application/vnd.jupyter.widget-view+json": {
       "model_id": "d5bb33ee48974b6aa9c4372679427199",
       "version_major": 2,
       "version_minor": 0
      },
      "text/plain": [
       "interactive(children=(FloatSlider(value=0.2, description='Force of Infection Rate:', max=0.6, step=0.01), Floa…"
      ]
     },
     "metadata": {},
     "output_type": "display_data"
    }
   ],
   "source": [
    "@interact(force_of_infection_rate=widgets.FloatSlider(\n",
    "            value=0.2,\n",
    "            min=0,\n",
    "            max=0.6,\n",
    "            step=0.01,\n",
    "            description='Force of Infection Rate:',\n",
    "            disabled=False,\n",
    "            continuous_update=True,\n",
    "            orientation='horizontal',\n",
    "            readout=True,\n",
    "            readout_format='.2f'\n",
    "        ),\n",
    "        mean_recovery_rate=widgets.FloatSlider(\n",
    "            value=0.1,\n",
    "            min=0.001,\n",
    "            max=0.2,\n",
    "            step=0.005,\n",
    "            description='Mean Recovery Time:',\n",
    "            disabled=False,\n",
    "            continuous_update=True,\n",
    "            orientation='horizontal',\n",
    "            readout=True,\n",
    "            readout_format='.3f'\n",
    "        ),\n",
    "        initial_immunized_percent=widgets.IntSlider(\n",
    "            value=0,\n",
    "            min=0,\n",
    "            max=100,\n",
    "            step=1,\n",
    "            description='Percentage Initially Immunized:',\n",
    "            disabled=False,\n",
    "            continuous_update=True,\n",
    "            orientation='horizontal',\n",
    "            readout=True,\n",
    "            readout_format='d'\n",
    "        ),\n",
    "        total_pop=fixed(total_pop))\n",
    "def plot_graph(total_pop, force_of_infection_rate, mean_recovery_rate, initial_immunized_percent=0):\n",
    "    # Everyone else, S0, is susceptible to infection initially.\n",
    "    initial_immunized_count = percentage_of(percentage=initial_immunized_percent, total=total_pop)\n",
    "    S0 = total_pop - I0 - initial_immunized_count\n",
    "    # Initial conditions vector\n",
    "    y0 = S0, I0, initial_immunized_percent\n",
    "\n",
    "    # Integrate the SIR equations over the time grid, t.\n",
    "    ret = odeint(deriv, y0, t, args=(total_pop, force_of_infection_rate, mean_recovery_rate))\n",
    "    susceptible, infected, recovered = np.transpose(ret)\n",
    "\n",
    "    # Plot the data on three separate curves for S(t), I(t) and R(t)\n",
    "    fig = plt.figure(facecolor='w', figsize=(15.0, 8.0))\n",
    "    fig.suptitle(f\"Force of Infection Rate={dec_to_percentage_string(force_of_infection_rate)}\\n\" \\\n",
    "        + f\" Mean Recovery Time={convert_mrr_to_days(mean_recovery_rate)} Days\\n\" \\\n",
    "        + f\" Percent Initially Immunized={str(initial_immunized_percent)}\")\n",
    "    ax = fig.add_subplot(111, axisbelow=True)\n",
    "    ax.plot(t, susceptible/1000, 'b', alpha=0.5, lw=2, label='Susceptible')\n",
    "    ax.plot(t, infected/1000, 'r', alpha=0.5, lw=2, label='Infected')\n",
    "    ax.plot(t, recovered/1000, 'g', alpha=0.5, lw=2, label='Recovered with immunity')\n",
    "    ax.set_xlabel('Time /days')\n",
    "    ax.set_ylabel('Number (1000s)')\n",
    "    ax.set_ylim(0,1.2)\n",
    "    ax.yaxis.set_tick_params(length=0)\n",
    "    ax.xaxis.set_tick_params(length=0)\n",
    "    ax.grid(b=True, which='major', c='w', lw=2, ls='-')\n",
    "    legend = ax.legend()\n",
    "    legend.get_frame().set_alpha(0.5)\n",
    "    for spine in ('top', 'right', 'bottom', 'left'):\n",
    "        ax.spines[spine].set_visible(False)\n",
    "    plt.show()"
   ]
  },
  {
   "cell_type": "code",
   "execution_count": 8,
   "metadata": {},
   "outputs": [],
   "source": [
    "# plot_graph(total_pop, force_of_infection_rate=0.2, mean_recovery_rate=1./10)\n",
    "# plot_graph(total_pop, force_of_infection_rate=0.3, mean_recovery_rate=1./10)\n",
    "# plot_graph(total_pop, force_of_infection_rate=0.2, mean_recovery_rate=1./8)\n",
    "# plot_graph(total_pop, force_of_infection_rate=0.2, mean_recovery_rate=1./5)"
   ]
  },
  {
   "cell_type": "code",
   "execution_count": 9,
   "metadata": {},
   "outputs": [],
   "source": [
    "def f(x):\n",
    "    return x"
   ]
  },
  {
   "cell_type": "code",
   "execution_count": 10,
   "metadata": {},
   "outputs": [
    {
     "data": {
      "application/vnd.jupyter.widget-view+json": {
       "model_id": "86515c9877b14b018a213c881d1a3bd7",
       "version_major": 2,
       "version_minor": 0
      },
      "text/plain": [
       "interactive(children=(IntSlider(value=10, description='x', max=30, min=-10), Output()), _dom_classes=('widget-…"
      ]
     },
     "metadata": {},
     "output_type": "display_data"
    }
   ],
   "source": [
    "interact(f, x=10);"
   ]
  },
  {
   "cell_type": "code",
   "execution_count": null,
   "metadata": {},
   "outputs": [],
   "source": []
  }
 ],
 "metadata": {
  "kernelspec": {
   "display_name": "Python 3",
   "language": "python",
   "name": "python3"
  },
  "language_info": {
   "codemirror_mode": {
    "name": "ipython",
    "version": 3
   },
   "file_extension": ".py",
   "mimetype": "text/x-python",
   "name": "python",
   "nbconvert_exporter": "python",
   "pygments_lexer": "ipython3",
   "version": "3.7.7"
  }
 },
 "nbformat": 4,
 "nbformat_minor": 4
}
